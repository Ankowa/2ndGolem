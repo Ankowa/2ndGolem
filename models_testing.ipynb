{
 "metadata": {
  "language_info": {
   "codemirror_mode": {
    "name": "ipython",
    "version": 3
   },
   "file_extension": ".py",
   "mimetype": "text/x-python",
   "name": "python",
   "nbconvert_exporter": "python",
   "pygments_lexer": "ipython3",
   "version": "3.8.6-final"
  },
  "orig_nbformat": 2,
  "kernelspec": {
   "name": "python386jvsc74a57bd016c31d61a8705ef2338a430691145c2a45fcb062bc6cbb6a4bda3eb989e70e5a",
   "display_name": "Python 3.8.6 64-bit"
  },
  "metadata": {
   "interpreter": {
    "hash": "16c31d61a8705ef2338a430691145c2a45fcb062bc6cbb6a4bda3eb989e70e5a"
   }
  }
 },
 "nbformat": 4,
 "nbformat_minor": 2,
 "cells": [
  {
   "cell_type": "code",
   "execution_count": 6,
   "metadata": {},
   "outputs": [],
   "source": [
    "import pandas as pd\n",
    "import numpy as np\n",
    "import torch\n",
    "import torch.nn as nn\n",
    "from torch.optim import AdamW\n",
    "import torch.nn.functional as F\n",
    "from utils import loadSequential, loadTabular, getDataloaders, train, dumpSubmission, useSeqTab, getJoinPred\n",
    "from sklearn.model_selection import train_test_split\n",
    "from sklearn.ensemble import RandomForestClassifier"
   ]
  },
  {
   "cell_type": "code",
   "execution_count": 7,
   "metadata": {},
   "outputs": [],
   "source": [
    "tabular_train, labels = loadTabular(cleaned=True)"
   ]
  },
  {
   "cell_type": "code",
   "execution_count": 8,
   "metadata": {},
   "outputs": [],
   "source": [
    "class LSTM(nn.Module):\n",
    "    def __init__(self, input_size, hidden_size, num_layers, lin_size, output_size):\n",
    "        super(LSTM, self).__init__()\n",
    "        self.hidden_size = hidden_size\n",
    "        self.num_layers = num_layers\n",
    "        self.lstm = nn.LSTM(input_size, hidden_size, num_layers, batch_first=True)\n",
    "        self.lin_input = nn.Linear(hidden_size, lin_size)\n",
    "        self.lin_output = nn.Linear(lin_size, output_size)\n",
    "        self.soft = nn.Softmax(dim=1)\n",
    "    \n",
    "    def forward(self, sequence):\n",
    "        hidden_cell = (torch.zeros(self.num_layers, sequence.shape[0], self.hidden_size).type(torch.double),\n",
    "                        torch.zeros(self.num_layers, sequence.shape[0], self.hidden_size).type(torch.double))\n",
    "        lstm_out, _ = self.lstm(sequence, hidden_cell)\n",
    "        output = F.hardswish(self.lin_input(lstm_out[:, -1, :]))\n",
    "        output = self.soft(self.lin_output(output))\n",
    "        return output\n",
    "    \n",
    "    def features_vector(self, sequence):\n",
    "        hidden_cell = (torch.zeros(self.num_layers, sequence.shape[0], self.hidden_size).type(torch.double),\n",
    "                        torch.zeros(self.num_layers, sequence.shape[0], self.hidden_size).type(torch.double))\n",
    "        lstm_out, _ = self.lstm(sequence, hidden_cell)\n",
    "        output = F.hardswish(self.lin_input(lstm_out[:, -1, :]))\n",
    "        return output"
   ]
  },
  {
   "cell_type": "code",
   "execution_count": 9,
   "metadata": {},
   "outputs": [],
   "source": [
    "seq_model = LSTM(9, 16, 2, 32, 6).double()"
   ]
  },
  {
   "cell_type": "code",
   "execution_count": 10,
   "metadata": {},
   "outputs": [],
   "source": [
    "sequences_train = loadSequential()\n",
    "train_dataloader, test_dataloader = getDataloaders(sequences_train, labels, batch_size=100)"
   ]
  },
  {
   "cell_type": "code",
   "execution_count": 11,
   "metadata": {
    "tags": []
   },
   "outputs": [],
   "source": [
    "train(seq_model, train_dataloader, test_dataloader, 1, show_every=10)"
   ]
  },
  {
   "cell_type": "code",
   "execution_count": 12,
   "metadata": {},
   "outputs": [
    {
     "output_type": "stream",
     "name": "stdout",
     "text": [
      "Join model accuracy: 0.69623\n",
      "Trained on full data\n"
     ]
    }
   ],
   "source": [
    "tab_model = RandomForestClassifier()\n",
    "join_model = useSeqTab(seq_model, tab_model, sequences_train, tabular_train, labels)"
   ]
  },
  {
   "cell_type": "code",
   "execution_count": 13,
   "metadata": {},
   "outputs": [],
   "source": [
    "sequences_test = loadSequential(isTest=True)\n",
    "tabular_test = loadTabular(cleaned=True, isTest=True)\n",
    "prediction = getJoinPred(seq_model, join_model, sequences_test, tabular_test)"
   ]
  },
  {
   "cell_type": "code",
   "execution_count": 14,
   "metadata": {},
   "outputs": [],
   "source": [
    "dumpSubmission(prediction, 'join_sub.csv')"
   ]
  },
  {
   "cell_type": "code",
   "execution_count": null,
   "metadata": {},
   "outputs": [],
   "source": []
  }
 ]
}